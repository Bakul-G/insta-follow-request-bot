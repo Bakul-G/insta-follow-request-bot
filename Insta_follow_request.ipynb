{
 "cells": [
  {
   "cell_type": "markdown",
   "metadata": {},
   "source": [
    "# Importing Libraries"
   ]
  },
  {
   "cell_type": "code",
   "execution_count": null,
   "metadata": {
    "scrolled": true
   },
   "outputs": [],
   "source": [
    "from selenium import webdriver\n",
    "from selenium.common.exceptions import NoSuchElementException\n",
    "import time\n",
    "import pandas as pd"
   ]
  },
  {
   "cell_type": "markdown",
   "metadata": {},
   "source": [
    "# Reading Dataset"
   ]
  },
  {
   "cell_type": "code",
   "execution_count": null,
   "metadata": {},
   "outputs": [],
   "source": [
    "dataset = pd.read_csv('CSV_fileName')\n",
    "dataset"
   ]
  },
  {
   "cell_type": "code",
   "execution_count": null,
   "metadata": {},
   "outputs": [],
   "source": [
    "accounts = dataset.iloc[:,-1]\n",
    "accounts"
   ]
  },
  {
   "cell_type": "markdown",
   "metadata": {},
   "source": [
    "# Testing Pandas functions on dataset"
   ]
  },
  {
   "cell_type": "code",
   "execution_count": null,
   "metadata": {},
   "outputs": [],
   "source": [
    "for i in range(len(accounts)):\n",
    "    print(accounts[i])"
   ]
  },
  {
   "cell_type": "code",
   "execution_count": null,
   "metadata": {},
   "outputs": [],
   "source": [
    "accounts[0]"
   ]
  },
  {
   "cell_type": "markdown",
   "metadata": {},
   "source": [
    "# Initialising web driver and opening website (here Instagram)"
   ]
  },
  {
   "cell_type": "code",
   "execution_count": null,
   "metadata": {},
   "outputs": [],
   "source": [
    "obj=webdriver.Chrome(executable_path='Path of ChromeDriver')\n",
    "obj.get(\"https://www.instagram.com\")\n",
    "time.sleep(4)"
   ]
  },
  {
   "cell_type": "markdown",
   "metadata": {},
   "source": [
    "# Entering Username"
   ]
  },
  {
   "cell_type": "code",
   "execution_count": null,
   "metadata": {},
   "outputs": [],
   "source": [
    "username = obj.find_element_by_name(\"username\")\n",
    "username.send_keys(\"YourUsername\")"
   ]
  },
  {
   "cell_type": "markdown",
   "metadata": {},
   "source": [
    "# Entering Password"
   ]
  },
  {
   "cell_type": "code",
   "execution_count": null,
   "metadata": {},
   "outputs": [],
   "source": [
    "password = obj.find_element_by_name(\"password\")\n",
    "password.send_keys(\"YourPassword\")"
   ]
  },
  {
   "cell_type": "markdown",
   "metadata": {},
   "source": [
    "# Clicking Login Button"
   ]
  },
  {
   "cell_type": "code",
   "execution_count": null,
   "metadata": {},
   "outputs": [],
   "source": [
    "loginbutton = obj.find_element_by_xpath(\"//button[contains(@class,'sqdOP  L3NKy   y3zKF     ')]\")\n",
    "loginbutton.submit()\n",
    "time.sleep(3)"
   ]
  },
  {
   "cell_type": "markdown",
   "metadata": {},
   "source": [
    "# Pressing Not Now in Save Info (firstly checking if it asks or not)"
   ]
  },
  {
   "cell_type": "code",
   "execution_count": null,
   "metadata": {},
   "outputs": [],
   "source": [
    "try:\n",
    "    checkSaveInfo = obj.find_element_by_xpath(\"//div[contains(@class,'olLwo')]\") #Searches for div tag in which \"Save your Login Info?\" is written\n",
    "    saveInfoNot = obj.find_element_by_xpath(\"//button[contains(@class,'sqdOP yWX7d    y3zKF     ')]\") #If above is found then it searches for the \"Not Now\" button\n",
    "    saveInfoNot.click()\n",
    "    time.sleep(3)\n",
    "except NoSuchElementException:\n",
    "    time.sleep(3)\n",
    "    pass                  #If the \"Save Info\" is not found it just passes or moves to the next line of code"
   ]
  },
  {
   "cell_type": "markdown",
   "metadata": {},
   "source": [
    "# Pressing Not Now in Notification (firstly checking if it asks or not)"
   ]
  },
  {
   "cell_type": "code",
   "execution_count": null,
   "metadata": {},
   "outputs": [],
   "source": [
    "try:\n",
    "    checkNoti = obj.find_element_by_xpath(\"//h2[contains(@class,'_7UhW9      x-6xq  yUEEX   KV-D4          uL8Hv         ')]\") #Looks for \"Turn On Notification\" written in h2 tag\n",
    "    offNoti = obj.find_element_by_xpath(\"//button[contains(@class,'aOOlW   HoLwm ')]\") #If above found then it looks for \"Not Now\" button\n",
    "    offNoti.click()\n",
    "except NoSuchElementException:\n",
    "    pass                #If the \"Turn On Notification\" is not found it just passes or moves to the next line of code"
   ]
  },
  {
   "cell_type": "markdown",
   "metadata": {},
   "source": [
    "# Searching for Username, Clicking the top result (ID) shown and Clicking Follow button (in a loop)"
   ]
  },
  {
   "cell_type": "markdown",
   "metadata": {},
   "source": [
    "Follow Button is of Two types:\n",
    "    1) For Normal Accounts\n",
    "    2) For Accounts that have Many followers;\n",
    "Differentiating between both by searching for the arrow that opens up the suggested menu"
   ]
  },
  {
   "cell_type": "code",
   "execution_count": null,
   "metadata": {},
   "outputs": [],
   "source": [
    "for i in range(len(accounts)):\n",
    "    search = obj.find_element_by_xpath(\"//div[contains(@class,' QY4Ed P0xOK')]\")\n",
    "    searchB = obj.find_element_by_xpath(\"//input[contains(@class,'XTCLo  d_djL  DljaH ')]\")\n",
    "    searchB.send_keys(\"\", accounts[i])\n",
    "    time.sleep(3)\n",
    "    instaID = obj.find_element_by_xpath(\"//a[contains(@class,'-qQT3')]\")\n",
    "    instaID.click()\n",
    "    time.sleep(3)\n",
    "    try:\n",
    "        arrowCheck = obj.find_element_by_xpath(\"//button[contains(@class,'_5f5mN       jIbKX KUBKM      yZn4P   ')]\") #Checking if the arrow that opens suggested present or not\n",
    "        follow = obj.find_element_by_xpath(\"//button[contains(@class,'_5f5mN       jIbKX  _6VtSN     yZn4P   ')]\") #Follow Button of accounts with many followers\n",
    "        follow.click()\n",
    "        time.sleep(3)\n",
    "    except NoSuchElementException:\n",
    "        follow = obj.find_element_by_xpath(\"//button[contains(@class,'sqdOP  L3NKy   y3zKF     ')]\") #Follow button for normal accounts\n",
    "        follow.click()\n",
    "        time.sleep(3)"
   ]
  },
  {
   "cell_type": "markdown",
   "metadata": {},
   "source": []
  }
 ],
 "metadata": {
  "interpreter": {
   "hash": "ff8145926b423a6a311066f204ef77164dadfc12c3ba03d15f207123d6ae9609"
  },
  "kernelspec": {
   "display_name": "Python 3.9.6 64-bit",
   "name": "python3"
  },
  "language_info": {
   "codemirror_mode": {
    "name": "ipython",
    "version": 3
   },
   "file_extension": ".py",
   "mimetype": "text/x-python",
   "name": "python",
   "nbconvert_exporter": "python",
   "pygments_lexer": "ipython3",
   "version": "3.9.6"
  }
 },
 "nbformat": 4,
 "nbformat_minor": 4
}
